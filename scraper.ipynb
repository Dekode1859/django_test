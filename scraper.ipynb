{
 "cells": [
  {
   "cell_type": "code",
   "execution_count": 5,
   "metadata": {},
   "outputs": [
    {
     "name": "stdout",
     "output_type": "stream",
     "text": [
      "200\n",
      "[{'title': 'Cosmic Byte C3070W Nebula 2.4G Wireless Gamepad for PC supports Windows XP/7/8/10/11, Upgraded with USB C Port, Rubberized Texture (Black)', 'price': '₹1,689.00'}]\n"
     ]
    }
   ],
   "source": [
    "import requests\n",
    "from bs4 import BeautifulSoup\n",
    "import re\n",
    "\n",
    "l=[]\n",
    "o={}\n",
    "specs_arr=[]\n",
    "specs_obj={}\n",
    "\n",
    "# target_url=\"https://www.amazon.in/Redgear-Pro-Wireless-Gamepad-Black/dp/B0756CLQWL/ref=pd_sbs_d_sccl_4_3/262-7054229-7210015?pd_rd_w=M2ckU&content-id=amzn1.sym.a9e12e68-4e49-43d0-a6b4-fd1619ccac52&pf_rd_p=a9e12e68-4e49-43d0-a6b4-fd1619ccac52&pf_rd_r=FF1KEH08ANKPRJKCR847&pd_rd_wg=nglt6&pd_rd_r=a3246565-e7ff-4e73-affb-de4615756c88&pd_rd_i=B0756CLQWL&psc=1\"\n",
    "target_url=\"https://amzn.eu/d/1ylDGgU\"\n",
    "headers={\"accept-language\": \"en-US,en;q=0.9\",\"accept-encoding\": \"gzip, deflate, br\",\"User-Agent\":\"Mozilla/5.0 (Windows NT 10.0; Win64; x64) AppleWebKit/537.36 (KHTML, like Gecko) Chrome/111.0.0.0 Safari/537.36\",\"accept\": \"text/html,application/xhtml+xml,application/xml;q=0.9,image/avif,image/webp,image/apng,*/*;q=0.8,application/signed-exchange;v=b3;q=0.7\"}\n",
    "\n",
    "resp = requests.get(target_url, headers=headers)\n",
    "print(resp.status_code)\n",
    "if(resp.status_code != 200):\n",
    "    print(resp)\n",
    "soup=BeautifulSoup(resp.text,'html.parser')\n",
    "\n",
    "# .lstrip().rstrip()\n",
    "\n",
    "try:\n",
    "    o[\"title\"]=soup.find('span',{'id':'productTitle'}).text.lstrip().rstrip()\n",
    "except:\n",
    "    o[\"title\"]=None\n",
    "\n",
    "try:\n",
    "    o[\"price\"]=soup.find(\"span\",{\"class\":\"a-price\"}).find(\"span\").text\n",
    "except:\n",
    "    o[\"price\"]=None\n",
    "\n",
    "l.append(o)\n",
    "print(l)"
   ]
  },
  {
   "cell_type": "code",
   "execution_count": null,
   "metadata": {},
   "outputs": [],
   "source": []
  }
 ],
 "metadata": {
  "kernelspec": {
   "display_name": "base",
   "language": "python",
   "name": "python3"
  },
  "language_info": {
   "codemirror_mode": {
    "name": "ipython",
    "version": 3
   },
   "file_extension": ".py",
   "mimetype": "text/x-python",
   "name": "python",
   "nbconvert_exporter": "python",
   "pygments_lexer": "ipython3",
   "version": "3.9.16"
  }
 },
 "nbformat": 4,
 "nbformat_minor": 2
}
